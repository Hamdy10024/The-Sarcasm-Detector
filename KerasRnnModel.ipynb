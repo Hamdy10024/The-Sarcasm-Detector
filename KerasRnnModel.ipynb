{
  "nbformat": 4,
  "nbformat_minor": 0,
  "metadata": {
    "colab": {
      "name": "KerasRnnModel.ipynb",
      "version": "0.3.2",
      "provenance": [],
      "collapsed_sections": [],
      "include_colab_link": true
    },
    "kernelspec": {
      "name": "python3",
      "display_name": "Python 3"
    },
    "accelerator": "GPU"
  },
  "cells": [
    {
      "cell_type": "markdown",
      "metadata": {
        "id": "view-in-github",
        "colab_type": "text"
      },
      "source": [
        "<a href=\"https://colab.research.google.com/github/Hamdy10024/The-Sarcasm-Detector/blob/master/KerasRnnModel.ipynb\" target=\"_parent\"><img src=\"https://colab.research.google.com/assets/colab-badge.svg\" alt=\"Open In Colab\"/></a>"
      ]
    },
    {
      "metadata": {
        "id": "HwvWTfWzM6hz",
        "colab_type": "code",
        "outputId": "202b958c-d591-4e7e-ed04-06a527229106",
        "colab": {
          "base_uri": "https://localhost:8080/",
          "height": 34
        }
      },
      "cell_type": "code",
      "source": [
        "from google.colab import drive\n",
        "drive.mount('/content/drive',force_remount=True)"
      ],
      "execution_count": 0,
      "outputs": [
        {
          "output_type": "stream",
          "text": [
            "Mounted at /content/drive\n"
          ],
          "name": "stdout"
        }
      ]
    },
    {
      "metadata": {
        "id": "f5e0A9S7NAsM",
        "colab_type": "code",
        "colab": {}
      },
      "cell_type": "code",
      "source": [
        "import pandas as pd\n",
        "import numpy as np\n",
        "import matplotlib.pyplot as plt\n",
        "import seaborn as sns\n",
        "from sklearn.model_selection import train_test_split\n",
        "from sklearn.preprocessing import LabelEncoder\n",
        "from keras.models import Model\n",
        "from keras.layers import LSTM, Activation, Dense, Dropout, Input, Embedding\n",
        "from keras.optimizers import RMSprop\n",
        "from keras.preprocessing.text import Tokenizer\n",
        "from keras.preprocessing import sequence\n",
        "from keras.utils import to_categorical\n",
        "from keras import optimizers\n",
        "from keras import regularizers\n",
        "from keras.callbacks import EarlyStopping\n",
        "from sklearn.feature_extraction.text import CountVectorizer\n",
        "from keras.preprocessing.text import Tokenizer\n",
        "from keras.preprocessing.sequence import pad_sequences\n",
        "from keras.models import Sequential\n",
        "from keras.layers import Dense, Embedding, LSTM, SpatialDropout1D , InputLayer\n",
        "from sklearn.model_selection import train_test_split\n",
        "from keras.utils.np_utils import to_categorical"
      ],
      "execution_count": 0,
      "outputs": []
    },
    {
      "metadata": {
        "id": "V_5g8k0NNFBD",
        "colab_type": "code",
        "colab": {}
      },
      "cell_type": "code",
      "source": [
        "def divideFeatureSets(features):\n",
        "    \"\"\"\n",
        "    This method is used to divide the whole feature sets into four parts:\n",
        "    1.  Training input\n",
        "    2.  Training output\n",
        "    3.  Testing input\n",
        "    4.  Testing output\n",
        "\n",
        "    The default split rate is 30% for testing. It can be cahnged by setting\n",
        "    the value for test_size inside the method.\n",
        "    :param features:\n",
        "    :return: train_input, train_output, test_input, test_output.\n",
        "    \"\"\"\n",
        "    test_size = 0.3\n",
        "    testing_size = int(test_size * len(features))\n",
        "\n",
        "    train_input = list(features[:, 0][:-testing_size])\n",
        "    train_output = list(features[:, 1][:-testing_size])\n",
        "    test_input = list(features[:, 0][-testing_size:])\n",
        "    test_output = list(features[:, 1][-testing_size:])\n",
        "\n",
        "    return train_input, train_output, test_input, test_output\n"
      ],
      "execution_count": 0,
      "outputs": []
    },
    {
      "metadata": {
        "id": "VP6qmKYFNIkE",
        "colab_type": "code",
        "colab": {}
      },
      "cell_type": "code",
      "source": [
        "root = '/content/drive/My Drive/DeepLearning/'\n",
        "featuresets = np.load(root + 'featuresets.npy')\n",
        "train_input, train_output, test_input, test_output = divideFeatureSets(featuresets)"
      ],
      "execution_count": 0,
      "outputs": []
    },
    {
      "metadata": {
        "id": "S4Hg77_NNVZP",
        "colab_type": "code",
        "colab": {}
      },
      "cell_type": "code",
      "source": [
        "#converting from list to numpy\n",
        "train_X = np.array(train_input)\n",
        "train_y = np.array(train_output)\n",
        "test_X = np.array(test_input)\n",
        "test_y = np.array(test_output)\n"
      ],
      "execution_count": 0,
      "outputs": []
    },
    {
      "metadata": {
        "id": "2Z-XokSlNX_x",
        "colab_type": "code",
        "outputId": "c834fc30-0c7a-4c2d-d76c-50bf50a9169d",
        "colab": {
          "base_uri": "https://localhost:8080/",
          "height": 85
        }
      },
      "cell_type": "code",
      "source": [
        "print(train_y.shape)\n",
        "print(train_X.shape)\n",
        "print(test_X.shape)\n",
        "print(test_y.shape)"
      ],
      "execution_count": 0,
      "outputs": [
        {
          "output_type": "stream",
          "text": [
            "(38311, 2)\n",
            "(38311, 23)\n",
            "(16419, 23)\n",
            "(16419, 2)\n"
          ],
          "name": "stdout"
        }
      ]
    },
    {
      "metadata": {
        "id": "vfn3oROJNaso",
        "colab_type": "code",
        "colab": {}
      },
      "cell_type": "code",
      "source": [
        "embed_dim = 128\n",
        "lstm_out = 196\n",
        "batch_size = 32"
      ],
      "execution_count": 0,
      "outputs": []
    },
    {
      "metadata": {
        "id": "MSxdO4hAOv0A",
        "colab_type": "code",
        "colab": {}
      },
      "cell_type": "code",
      "source": [
        "def get_LSTM_model():\n",
        "  model = Sequential()\n",
        "  model.add(Embedding(2000, embed_dim,input_length = train_X.shape[1]))\n",
        "  model.add(SpatialDropout1D(0.4))\n",
        "  model.add(LSTM(lstm_out, dropout=0.2, recurrent_dropout=0.2))\n",
        "  model.add(Dense(train_y.shape[1],activation='softmax'))\n",
        "  model.compile(loss = 'categorical_crossentropy', optimizer='adam',metrics = ['accuracy'])\n",
        "  model.summary()\n",
        "  return model"
      ],
      "execution_count": 0,
      "outputs": []
    },
    {
      "metadata": {
        "id": "oqai5W96O4-m",
        "colab_type": "code",
        "outputId": "29f61e15-91ea-4357-874f-93281021c232",
        "colab": {
          "base_uri": "https://localhost:8080/",
          "height": 1156
        }
      },
      "cell_type": "code",
      "source": [
        "model = get_LSTM_model()\n",
        "model.fit(train_X, train_y, epochs = 25, batch_size=batch_size)\n",
        "score,acc = model.evaluate(test_X, test_y, verbose = 2, batch_size = batch_size)\n",
        "print(\"score: %.2f\" % (score))\n",
        "print(\"acc: %.2f\" % (acc))"
      ],
      "execution_count": 0,
      "outputs": [
        {
          "output_type": "stream",
          "text": [
            "_________________________________________________________________\n",
            "Layer (type)                 Output Shape              Param #   \n",
            "=================================================================\n",
            "embedding_1 (Embedding)      (None, 23, 128)           256000    \n",
            "_________________________________________________________________\n",
            "spatial_dropout1d_4 (Spatial (None, 23, 128)           0         \n",
            "_________________________________________________________________\n",
            "lstm_8 (LSTM)                (None, 196)               254800    \n",
            "_________________________________________________________________\n",
            "dense_3 (Dense)              (None, 2)                 394       \n",
            "=================================================================\n",
            "Total params: 511,194\n",
            "Trainable params: 511,194\n",
            "Non-trainable params: 0\n",
            "_________________________________________________________________\n",
            "Epoch 1/25\n",
            "38311/38311 [==============================] - 50s 1ms/step - loss: 0.6887 - acc: 0.5473\n",
            "Epoch 2/25\n",
            "38311/38311 [==============================] - 49s 1ms/step - loss: 0.6885 - acc: 0.5486\n",
            "Epoch 3/25\n",
            "38311/38311 [==============================] - 49s 1ms/step - loss: 0.6879 - acc: 0.5499\n",
            "Epoch 4/25\n",
            "38311/38311 [==============================] - 50s 1ms/step - loss: 0.6874 - acc: 0.5488\n",
            "Epoch 5/25\n",
            "38311/38311 [==============================] - 50s 1ms/step - loss: 0.6865 - acc: 0.5521\n",
            "Epoch 6/25\n",
            "38311/38311 [==============================] - 49s 1ms/step - loss: 0.6858 - acc: 0.5538\n",
            "Epoch 7/25\n",
            "38311/38311 [==============================] - 50s 1ms/step - loss: 0.6857 - acc: 0.5546\n",
            "Epoch 8/25\n",
            "38311/38311 [==============================] - 48s 1ms/step - loss: 0.6867 - acc: 0.5523\n",
            "Epoch 9/25\n",
            "38311/38311 [==============================] - 50s 1ms/step - loss: 0.6857 - acc: 0.5547\n",
            "Epoch 10/25\n",
            "38311/38311 [==============================] - 49s 1ms/step - loss: 0.6852 - acc: 0.5551\n",
            "Epoch 11/25\n",
            "38311/38311 [==============================] - 51s 1ms/step - loss: 0.6851 - acc: 0.5552\n",
            "Epoch 12/25\n",
            "38311/38311 [==============================] - 50s 1ms/step - loss: 0.6852 - acc: 0.5563\n",
            "Epoch 13/25\n",
            "38311/38311 [==============================] - 48s 1ms/step - loss: 0.6852 - acc: 0.5563\n",
            "Epoch 14/25\n",
            "38311/38311 [==============================] - 50s 1ms/step - loss: 0.6848 - acc: 0.5553\n",
            "Epoch 15/25\n",
            "38311/38311 [==============================] - 50s 1ms/step - loss: 0.6847 - acc: 0.5567\n",
            "Epoch 16/25\n",
            "38311/38311 [==============================] - 48s 1ms/step - loss: 0.6848 - acc: 0.5552\n",
            "Epoch 17/25\n",
            "38311/38311 [==============================] - 51s 1ms/step - loss: 0.6846 - acc: 0.5574\n",
            "Epoch 18/25\n",
            "38311/38311 [==============================] - 48s 1ms/step - loss: 0.6849 - acc: 0.5561\n",
            "Epoch 19/25\n",
            "38311/38311 [==============================] - 49s 1ms/step - loss: 0.6847 - acc: 0.5557\n",
            "Epoch 20/25\n",
            "38311/38311 [==============================] - 50s 1ms/step - loss: 0.6845 - acc: 0.5576\n",
            "Epoch 21/25\n",
            "38311/38311 [==============================] - 49s 1ms/step - loss: 0.6846 - acc: 0.5566\n",
            "Epoch 22/25\n",
            "38311/38311 [==============================] - 49s 1ms/step - loss: 0.6847 - acc: 0.5556\n",
            "Epoch 23/25\n",
            "38311/38311 [==============================] - 49s 1ms/step - loss: 0.6848 - acc: 0.5567\n",
            "Epoch 24/25\n",
            "38311/38311 [==============================] - 49s 1ms/step - loss: 0.6845 - acc: 0.5572\n",
            "Epoch 25/25\n",
            "38311/38311 [==============================] - 49s 1ms/step - loss: 0.6846 - acc: 0.5568\n",
            "score: 0.68\n",
            "acc: 0.56\n"
          ],
          "name": "stdout"
        }
      ]
    }
  ]
}