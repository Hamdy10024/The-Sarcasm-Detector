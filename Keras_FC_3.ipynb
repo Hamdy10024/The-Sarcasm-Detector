{
  "nbformat": 4,
  "nbformat_minor": 0,
  "metadata": {
    "colab": {
      "name": "Keras-FC-3.ipynb",
      "version": "0.3.2",
      "provenance": [],
      "include_colab_link": true
    },
    "kernelspec": {
      "name": "python3",
      "display_name": "Python 3"
    }
  },
  "cells": [
    {
      "cell_type": "markdown",
      "metadata": {
        "id": "view-in-github",
        "colab_type": "text"
      },
      "source": [
        "<a href=\"https://colab.research.google.com/github/Hamdy10024/The-Sarcasm-Detector/blob/master/Keras_FC_3.ipynb\" target=\"_parent\"><img src=\"https://colab.research.google.com/assets/colab-badge.svg\" alt=\"Open In Colab\"/></a>"
      ]
    },
    {
      "metadata": {
        "id": "ukAl_qjbEtW3",
        "colab_type": "code",
        "colab": {}
      },
      "cell_type": "code",
      "source": [
        ""
      ],
      "execution_count": 0,
      "outputs": []
    },
    {
      "metadata": {
        "id": "uJ2BLNjQEzKx",
        "colab_type": "code",
        "colab": {
          "base_uri": "https://localhost:8080/",
          "height": 122
        },
        "outputId": "b028ceb3-a3a2-4863-ecad-341826dd3394"
      },
      "cell_type": "code",
      "source": [
        "from google.colab import drive\n",
        "drive.mount('/content/drive',force_remount=True)"
      ],
      "execution_count": 1,
      "outputs": [
        {
          "output_type": "stream",
          "text": [
            "Go to this URL in a browser: https://accounts.google.com/o/oauth2/auth?client_id=947318989803-6bn6qk8qdgf4n4g3pfee6491hc0brc4i.apps.googleusercontent.com&redirect_uri=urn%3Aietf%3Awg%3Aoauth%3A2.0%3Aoob&scope=email%20https%3A%2F%2Fwww.googleapis.com%2Fauth%2Fdocs.test%20https%3A%2F%2Fwww.googleapis.com%2Fauth%2Fdrive%20https%3A%2F%2Fwww.googleapis.com%2Fauth%2Fdrive.photos.readonly%20https%3A%2F%2Fwww.googleapis.com%2Fauth%2Fpeopleapi.readonly&response_type=code\n",
            "\n",
            "Enter your authorization code:\n",
            "··········\n",
            "Mounted at /content/drive\n"
          ],
          "name": "stdout"
        }
      ]
    },
    {
      "metadata": {
        "id": "duYFpQWkE1ef",
        "colab_type": "code",
        "colab": {
          "base_uri": "https://localhost:8080/",
          "height": 34
        },
        "outputId": "13b7d922-4caf-45fe-c85f-f95bd67f156a"
      },
      "cell_type": "code",
      "source": [
        "import pandas as pd\n",
        "import numpy as np\n",
        "import matplotlib.pyplot as plt\n",
        "import seaborn as sns\n",
        "from sklearn.model_selection import train_test_split\n",
        "from sklearn.preprocessing import LabelEncoder\n",
        "from keras.models import Model\n",
        "from keras.layers import LSTM, Activation, Dense, Dropout, Input, Embedding\n",
        "from keras.optimizers import RMSprop\n",
        "from keras.preprocessing.text import Tokenizer\n",
        "from keras.preprocessing import sequence\n",
        "from keras.utils import to_categorical\n",
        "from keras import optimizers\n",
        "from keras import regularizers\n",
        "from keras.callbacks import EarlyStopping\n",
        "from sklearn.feature_extraction.text import CountVectorizer\n",
        "from keras.preprocessing.text import Tokenizer\n",
        "from keras.preprocessing.sequence import pad_sequences\n",
        "from keras.models import Sequential\n",
        "from keras.layers import Dense, Embedding, LSTM, SpatialDropout1D , InputLayer\n",
        "from sklearn.model_selection import train_test_split\n",
        "from keras.utils.np_utils import to_categorical"
      ],
      "execution_count": 2,
      "outputs": [
        {
          "output_type": "stream",
          "text": [
            "Using TensorFlow backend.\n"
          ],
          "name": "stderr"
        }
      ]
    },
    {
      "metadata": {
        "id": "IzHfpjYqFC8X",
        "colab_type": "code",
        "colab": {}
      },
      "cell_type": "code",
      "source": [
        "def divideFeatureSets(features):\n",
        "    \"\"\"\n",
        "    This method is used to divide the whole feature sets into four parts:\n",
        "    1.  Training input\n",
        "    2.  Training output\n",
        "    3.  Testing input\n",
        "    4.  Testing output\n",
        "\n",
        "    The default split rate is 30% for testing. It can be cahnged by setting\n",
        "    the value for test_size inside the method.\n",
        "    :param features:\n",
        "    :return: train_input, train_output, test_input, test_output.\n",
        "    \"\"\"\n",
        "    test_size = 0.3\n",
        "    testing_size = int(test_size * len(features))\n",
        "\n",
        "    train_input = list(features[:, 0][:-testing_size])\n",
        "    train_output = list(features[:, 1][:-testing_size])\n",
        "    test_input = list(features[:, 0][-testing_size:])\n",
        "    test_output = list(features[:, 1][-testing_size:])\n",
        "\n",
        "    return train_input, train_output, test_input, test_output\n"
      ],
      "execution_count": 0,
      "outputs": []
    },
    {
      "metadata": {
        "id": "pDigxcq2FOXW",
        "colab_type": "code",
        "colab": {
          "base_uri": "https://localhost:8080/",
          "height": 34
        },
        "outputId": "acdcc818-f5a6-4db4-ab5a-df94befc6a26"
      },
      "cell_type": "code",
      "source": [
        "%ls\n"
      ],
      "execution_count": 13,
      "outputs": [
        {
          "output_type": "stream",
          "text": [
            "\u001b[0m\u001b[01;34mDeepLearning\u001b[0m/\n"
          ],
          "name": "stdout"
        }
      ]
    },
    {
      "metadata": {
        "id": "JglZmh5OFF2W",
        "colab_type": "code",
        "colab": {}
      },
      "cell_type": "code",
      "source": [
        "root = '/content/drive/My Drive/DeepLearning/'\n",
        "featuresets = np.load(root + 'featuresets3.npy',allow_pickle=True)\n",
        "train_input, train_output, test_input, test_output = divideFeatureSets(featuresets)"
      ],
      "execution_count": 0,
      "outputs": []
    },
    {
      "metadata": {
        "id": "HtVVAHOeGDEi",
        "colab_type": "code",
        "colab": {}
      },
      "cell_type": "code",
      "source": [
        "train_X = np.array(train_input)\n",
        "train_y = np.array(train_output)\n",
        "test_X = np.array(test_input)\n",
        "test_y = np.array(test_output)"
      ],
      "execution_count": 0,
      "outputs": []
    },
    {
      "metadata": {
        "id": "S7urE53aGOuT",
        "colab_type": "code",
        "colab": {
          "base_uri": "https://localhost:8080/",
          "height": 85
        },
        "outputId": "9ad5a3f7-07b0-4ee1-a671-0bc62851165c"
      },
      "cell_type": "code",
      "source": [
        "print(train_y.shape)\n",
        "print(train_X.shape)\n",
        "print(test_X.shape)\n",
        "print(test_y.shape)"
      ],
      "execution_count": 17,
      "outputs": [
        {
          "output_type": "stream",
          "text": [
            "(38311, 2)\n",
            "(38311, 28)\n",
            "(16419, 28)\n",
            "(16419, 2)\n"
          ],
          "name": "stdout"
        }
      ]
    },
    {
      "metadata": {
        "id": "OuzDVozmGRuB",
        "colab_type": "code",
        "colab": {}
      },
      "cell_type": "code",
      "source": [
        "def get_fc_model():\n",
        "  model = Sequential()\n",
        "  model.add(InputLayer(input_shape=([train_X.shape[1]])))\n",
        "  model.add(Dense(128, kernel_initializer='normal',activation='relu'))\n",
        "  model.add(Dense(128, kernel_initializer='normal',activation='relu'))\n",
        "  model.add(Dense(128, kernel_initializer='normal',activation='relu'))\n",
        "  model.add(Dense(128, kernel_initializer='normal',activation='relu'))\n",
        "  model.add(Dense(train_y.shape[1], kernel_initializer='normal'))\n",
        "  adam = optimizers.Adam(lr=0.001, beta_1=0.9, beta_2=0.999, epsilon=None, decay=0.0, amsgrad=False)\n",
        "  model.compile(loss='binary_crossentropy', metrics=['accuracy'], optimizer=adam)\n",
        "  return model"
      ],
      "execution_count": 0,
      "outputs": []
    },
    {
      "metadata": {
        "id": "Ehaxr-CGGUxa",
        "colab_type": "code",
        "colab": {
          "base_uri": "https://localhost:8080/",
          "height": 2706
        },
        "outputId": "26fd661d-9bc4-4f5d-a386-140b0307005c"
      },
      "cell_type": "code",
      "source": [
        "fc_model = get_fc_model()\n",
        "fc_model.fit(train_X, train_y, epochs=75, batch_size=60)\n",
        "scores = fc_model.evaluate(test_X, test_y)"
      ],
      "execution_count": 19,
      "outputs": [
        {
          "output_type": "stream",
          "text": [
            "WARNING:tensorflow:From /usr/local/lib/python3.6/dist-packages/tensorflow/python/framework/op_def_library.py:263: colocate_with (from tensorflow.python.framework.ops) is deprecated and will be removed in a future version.\n",
            "Instructions for updating:\n",
            "Colocations handled automatically by placer.\n",
            "WARNING:tensorflow:From /usr/local/lib/python3.6/dist-packages/tensorflow/python/ops/math_ops.py:3066: to_int32 (from tensorflow.python.ops.math_ops) is deprecated and will be removed in a future version.\n",
            "Instructions for updating:\n",
            "Use tf.cast instead.\n",
            "Epoch 1/75\n",
            "38311/38311 [==============================] - 4s 109us/step - loss: 0.6942 - acc: 0.5965\n",
            "Epoch 2/75\n",
            "38311/38311 [==============================] - 3s 88us/step - loss: 0.6603 - acc: 0.6193\n",
            "Epoch 3/75\n",
            "38311/38311 [==============================] - 3s 89us/step - loss: 0.6583 - acc: 0.6206\n",
            "Epoch 4/75\n",
            "38311/38311 [==============================] - 3s 91us/step - loss: 0.6537 - acc: 0.6269\n",
            "Epoch 5/75\n",
            "38311/38311 [==============================] - 3s 88us/step - loss: 0.6544 - acc: 0.6282\n",
            "Epoch 6/75\n",
            "38311/38311 [==============================] - 3s 87us/step - loss: 0.6532 - acc: 0.6272\n",
            "Epoch 7/75\n",
            "38311/38311 [==============================] - 3s 86us/step - loss: 0.6503 - acc: 0.6283\n",
            "Epoch 8/75\n",
            "38311/38311 [==============================] - 3s 87us/step - loss: 0.6470 - acc: 0.6290\n",
            "Epoch 9/75\n",
            "38311/38311 [==============================] - 3s 91us/step - loss: 0.6487 - acc: 0.6308\n",
            "Epoch 10/75\n",
            "38311/38311 [==============================] - 3s 90us/step - loss: 0.6476 - acc: 0.6324\n",
            "Epoch 11/75\n",
            "38311/38311 [==============================] - 3s 91us/step - loss: 0.6440 - acc: 0.6348\n",
            "Epoch 12/75\n",
            "38311/38311 [==============================] - 3s 89us/step - loss: 0.6459 - acc: 0.6334\n",
            "Epoch 13/75\n",
            "38311/38311 [==============================] - 3s 88us/step - loss: 0.6436 - acc: 0.6372\n",
            "Epoch 14/75\n",
            "38311/38311 [==============================] - 3s 89us/step - loss: 0.6401 - acc: 0.6367\n",
            "Epoch 15/75\n",
            "38311/38311 [==============================] - 3s 90us/step - loss: 0.6421 - acc: 0.6353\n",
            "Epoch 16/75\n",
            "38311/38311 [==============================] - 3s 89us/step - loss: 0.6364 - acc: 0.6415\n",
            "Epoch 17/75\n",
            "38311/38311 [==============================] - 3s 87us/step - loss: 0.6359 - acc: 0.6400\n",
            "Epoch 18/75\n",
            "38311/38311 [==============================] - 3s 87us/step - loss: 0.6353 - acc: 0.6421\n",
            "Epoch 19/75\n",
            "38311/38311 [==============================] - 3s 87us/step - loss: 0.6351 - acc: 0.6403\n",
            "Epoch 20/75\n",
            "38311/38311 [==============================] - 3s 87us/step - loss: 0.6317 - acc: 0.6440\n",
            "Epoch 21/75\n",
            "38311/38311 [==============================] - 3s 88us/step - loss: 0.6381 - acc: 0.6421\n",
            "Epoch 22/75\n",
            "38311/38311 [==============================] - 3s 89us/step - loss: 0.6313 - acc: 0.6458\n",
            "Epoch 23/75\n",
            "38311/38311 [==============================] - 3s 89us/step - loss: 0.6306 - acc: 0.6483\n",
            "Epoch 24/75\n",
            "38311/38311 [==============================] - 3s 87us/step - loss: 0.6278 - acc: 0.6498\n",
            "Epoch 25/75\n",
            "38311/38311 [==============================] - 3s 89us/step - loss: 0.6282 - acc: 0.6479\n",
            "Epoch 26/75\n",
            "38311/38311 [==============================] - 3s 89us/step - loss: 0.6258 - acc: 0.6521\n",
            "Epoch 27/75\n",
            "38311/38311 [==============================] - 3s 88us/step - loss: 0.6242 - acc: 0.6517\n",
            "Epoch 28/75\n",
            "38311/38311 [==============================] - 3s 86us/step - loss: 0.6227 - acc: 0.6529\n",
            "Epoch 29/75\n",
            "38311/38311 [==============================] - 3s 86us/step - loss: 0.6228 - acc: 0.6533\n",
            "Epoch 30/75\n",
            "38311/38311 [==============================] - 3s 86us/step - loss: 0.6216 - acc: 0.6534\n",
            "Epoch 31/75\n",
            "38311/38311 [==============================] - 3s 86us/step - loss: 0.6222 - acc: 0.6541\n",
            "Epoch 32/75\n",
            "38311/38311 [==============================] - 3s 86us/step - loss: 0.6178 - acc: 0.6571\n",
            "Epoch 33/75\n",
            "38311/38311 [==============================] - 3s 87us/step - loss: 0.6188 - acc: 0.6536\n",
            "Epoch 34/75\n",
            "38311/38311 [==============================] - 3s 87us/step - loss: 0.6174 - acc: 0.6601\n",
            "Epoch 35/75\n",
            "38311/38311 [==============================] - 3s 88us/step - loss: 0.6162 - acc: 0.6615\n",
            "Epoch 36/75\n",
            "38311/38311 [==============================] - 3s 88us/step - loss: 0.6133 - acc: 0.6587\n",
            "Epoch 37/75\n",
            "38311/38311 [==============================] - 3s 87us/step - loss: 0.6112 - acc: 0.6648\n",
            "Epoch 38/75\n",
            "38311/38311 [==============================] - 3s 86us/step - loss: 0.6194 - acc: 0.6585\n",
            "Epoch 39/75\n",
            "38311/38311 [==============================] - 3s 87us/step - loss: 0.6130 - acc: 0.6641\n",
            "Epoch 40/75\n",
            "38311/38311 [==============================] - 3s 89us/step - loss: 0.6056 - acc: 0.6670\n",
            "Epoch 41/75\n",
            "38311/38311 [==============================] - 3s 87us/step - loss: 0.6120 - acc: 0.6645\n",
            "Epoch 42/75\n",
            "38311/38311 [==============================] - 3s 86us/step - loss: 0.6126 - acc: 0.6624\n",
            "Epoch 43/75\n",
            "38311/38311 [==============================] - 3s 89us/step - loss: 0.6064 - acc: 0.6666\n",
            "Epoch 44/75\n",
            "38311/38311 [==============================] - 3s 88us/step - loss: 0.6081 - acc: 0.6658\n",
            "Epoch 45/75\n",
            "38311/38311 [==============================] - 3s 87us/step - loss: 0.6021 - acc: 0.6663\n",
            "Epoch 46/75\n",
            "38311/38311 [==============================] - 3s 88us/step - loss: 0.6111 - acc: 0.6624\n",
            "Epoch 47/75\n",
            "38311/38311 [==============================] - 3s 86us/step - loss: 0.5999 - acc: 0.6694\n",
            "Epoch 48/75\n",
            "38311/38311 [==============================] - 3s 85us/step - loss: 0.6099 - acc: 0.6653\n",
            "Epoch 49/75\n",
            "38311/38311 [==============================] - 3s 90us/step - loss: 0.6013 - acc: 0.6684\n",
            "Epoch 50/75\n",
            "38311/38311 [==============================] - 3s 88us/step - loss: 0.6049 - acc: 0.6670\n",
            "Epoch 51/75\n",
            "38311/38311 [==============================] - 3s 87us/step - loss: 0.6089 - acc: 0.6638\n",
            "Epoch 52/75\n",
            "38311/38311 [==============================] - 3s 87us/step - loss: 0.6093 - acc: 0.6639\n",
            "Epoch 53/75\n",
            "38311/38311 [==============================] - 3s 87us/step - loss: 0.6203 - acc: 0.6574\n",
            "Epoch 54/75\n",
            "38311/38311 [==============================] - 3s 87us/step - loss: 0.6079 - acc: 0.6649\n",
            "Epoch 55/75\n",
            "38311/38311 [==============================] - 3s 87us/step - loss: 0.6012 - acc: 0.6653\n",
            "Epoch 56/75\n",
            "38311/38311 [==============================] - 3s 86us/step - loss: 0.6078 - acc: 0.6625\n",
            "Epoch 57/75\n",
            "38311/38311 [==============================] - 3s 88us/step - loss: 0.5987 - acc: 0.6682\n",
            "Epoch 58/75\n",
            "38311/38311 [==============================] - 3s 91us/step - loss: 0.6049 - acc: 0.6623\n",
            "Epoch 59/75\n",
            "38311/38311 [==============================] - 3s 89us/step - loss: 0.6068 - acc: 0.6669\n",
            "Epoch 60/75\n",
            "38311/38311 [==============================] - 3s 88us/step - loss: 0.5973 - acc: 0.6677\n",
            "Epoch 61/75\n",
            "38311/38311 [==============================] - 3s 87us/step - loss: 0.6027 - acc: 0.6637\n",
            "Epoch 62/75\n",
            "38311/38311 [==============================] - 3s 89us/step - loss: 0.5998 - acc: 0.6662\n",
            "Epoch 63/75\n",
            "38311/38311 [==============================] - 3s 88us/step - loss: 0.6101 - acc: 0.6622\n",
            "Epoch 64/75\n",
            "38311/38311 [==============================] - 3s 86us/step - loss: 0.6149 - acc: 0.6652\n",
            "Epoch 65/75\n",
            "38311/38311 [==============================] - 3s 87us/step - loss: 0.5997 - acc: 0.6661\n",
            "Epoch 66/75\n",
            "38311/38311 [==============================] - 3s 87us/step - loss: 0.6059 - acc: 0.6621\n",
            "Epoch 67/75\n",
            "38311/38311 [==============================] - 3s 87us/step - loss: 0.6010 - acc: 0.6664\n",
            "Epoch 68/75\n",
            "38311/38311 [==============================] - 3s 88us/step - loss: 0.6048 - acc: 0.6602\n",
            "Epoch 69/75\n",
            "38311/38311 [==============================] - 3s 85us/step - loss: 0.5956 - acc: 0.6669\n",
            "Epoch 70/75\n",
            "38311/38311 [==============================] - 3s 87us/step - loss: 0.5882 - acc: 0.6666\n",
            "Epoch 71/75\n",
            "38311/38311 [==============================] - 3s 87us/step - loss: 0.6029 - acc: 0.6628\n",
            "Epoch 72/75\n",
            "38311/38311 [==============================] - 3s 89us/step - loss: 0.6005 - acc: 0.6655\n",
            "Epoch 73/75\n",
            "38311/38311 [==============================] - 3s 87us/step - loss: 0.5889 - acc: 0.6709\n",
            "Epoch 74/75\n",
            "38311/38311 [==============================] - 3s 88us/step - loss: 0.5933 - acc: 0.6645\n",
            "Epoch 75/75\n",
            "38311/38311 [==============================] - 3s 87us/step - loss: 0.5897 - acc: 0.6667\n",
            "16419/16419 [==============================] - 1s 36us/step\n"
          ],
          "name": "stdout"
        }
      ]
    }
  ]
}