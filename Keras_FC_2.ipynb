{
  "nbformat": 4,
  "nbformat_minor": 0,
  "metadata": {
    "colab": {
      "name": "Keras-FC-2.ipynb",
      "version": "0.3.2",
      "provenance": [],
      "collapsed_sections": [],
      "include_colab_link": true
    },
    "kernelspec": {
      "name": "python3",
      "display_name": "Python 3"
    }
  },
  "cells": [
    {
      "cell_type": "markdown",
      "metadata": {
        "id": "view-in-github",
        "colab_type": "text"
      },
      "source": [
        "<a href=\"https://colab.research.google.com/github/Hamdy10024/The-Sarcasm-Detector/blob/master/Keras_FC_2.ipynb\" target=\"_parent\"><img src=\"https://colab.research.google.com/assets/colab-badge.svg\" alt=\"Open In Colab\"/></a>"
      ]
    },
    {
      "metadata": {
        "id": "rleCQ69Vy0TS",
        "colab_type": "code",
        "outputId": "46cc4ffc-0c34-4088-dbc5-ffc2333adf63",
        "colab": {
          "base_uri": "https://localhost:8080/",
          "height": 34
        }
      },
      "cell_type": "code",
      "source": [
        "from google.colab import drive\n",
        "drive.mount('/content/drive',force_remount=True)"
      ],
      "execution_count": 0,
      "outputs": [
        {
          "output_type": "stream",
          "text": [
            "Mounted at /content/drive\n"
          ],
          "name": "stdout"
        }
      ]
    },
    {
      "metadata": {
        "id": "tUiwRb5mzbD6",
        "colab_type": "code",
        "colab": {}
      },
      "cell_type": "code",
      "source": [
        "import pandas as pd\n",
        "import numpy as np\n",
        "import matplotlib.pyplot as plt\n",
        "import seaborn as sns\n",
        "from sklearn.model_selection import train_test_split\n",
        "from sklearn.preprocessing import LabelEncoder\n",
        "from keras.models import Model\n",
        "from keras.layers import LSTM, Activation, Dense, Dropout, Input, Embedding\n",
        "from keras.optimizers import RMSprop\n",
        "from keras.preprocessing.text import Tokenizer\n",
        "from keras.preprocessing import sequence\n",
        "from keras.utils import to_categorical\n",
        "from keras import optimizers\n",
        "from keras import regularizers\n",
        "from keras.callbacks import EarlyStopping\n",
        "from sklearn.feature_extraction.text import CountVectorizer\n",
        "from keras.preprocessing.text import Tokenizer\n",
        "from keras.preprocessing.sequence import pad_sequences\n",
        "from keras.models import Sequential\n",
        "from keras.layers import Dense, Embedding, LSTM, SpatialDropout1D , InputLayer\n",
        "from sklearn.model_selection import train_test_split\n",
        "from keras.utils.np_utils import to_categorical"
      ],
      "execution_count": 0,
      "outputs": []
    },
    {
      "metadata": {
        "id": "sdb9I7MTzeuv",
        "colab_type": "code",
        "colab": {}
      },
      "cell_type": "code",
      "source": [
        "def divideFeatureSets(features):\n",
        "    \"\"\"\n",
        "    This method is used to divide the whole feature sets into four parts:\n",
        "    1.  Training input\n",
        "    2.  Training output\n",
        "    3.  Testing input\n",
        "    4.  Testing output\n",
        "\n",
        "    The default split rate is 30% for testing. It can be cahnged by setting\n",
        "    the value for test_size inside the method.\n",
        "    :param features:\n",
        "    :return: train_input, train_output, test_input, test_output.\n",
        "    \"\"\"\n",
        "    test_size = 0.3\n",
        "    testing_size = int(test_size * len(features))\n",
        "\n",
        "    train_input = list(features[:, 0][:-testing_size])\n",
        "    train_output = list(features[:, 1][:-testing_size])\n",
        "    test_input = list(features[:, 0][-testing_size:])\n",
        "    test_output = list(features[:, 1][-testing_size:])\n",
        "\n",
        "    return train_input, train_output, test_input, test_output\n"
      ],
      "execution_count": 0,
      "outputs": []
    },
    {
      "metadata": {
        "id": "IlRJCBcEzjE-",
        "colab_type": "code",
        "colab": {}
      },
      "cell_type": "code",
      "source": [
        "root = '/content/drive/My Drive/DeepLearning/'\n",
        "featuresets = np.load(root + 'featuresets2.npy')\n",
        "train_input, train_output, test_input, test_output = divideFeatureSets(featuresets)"
      ],
      "execution_count": 0,
      "outputs": []
    },
    {
      "metadata": {
        "id": "cyK5_J8t0WKz",
        "colab_type": "code",
        "colab": {}
      },
      "cell_type": "code",
      "source": [
        "train_X = np.array(train_input)\n",
        "train_y = np.array(train_output)\n",
        "test_X = np.array(test_input)\n",
        "test_y = np.array(test_output)"
      ],
      "execution_count": 0,
      "outputs": []
    },
    {
      "metadata": {
        "id": "Or3u_n1n0Zab",
        "colab_type": "code",
        "outputId": "d2b6dad4-0582-493f-827b-b55d3a50ed02",
        "colab": {
          "base_uri": "https://localhost:8080/",
          "height": 85
        }
      },
      "cell_type": "code",
      "source": [
        "print(train_y.shape)\n",
        "print(train_X.shape)\n",
        "print(test_X.shape)\n",
        "print(test_y.shape)"
      ],
      "execution_count": 0,
      "outputs": [
        {
          "output_type": "stream",
          "text": [
            "(38311, 2)\n",
            "(38311, 28)\n",
            "(16419, 28)\n",
            "(16419, 2)\n"
          ],
          "name": "stdout"
        }
      ]
    },
    {
      "metadata": {
        "id": "OZJv0qCe0dCe",
        "colab_type": "code",
        "colab": {}
      },
      "cell_type": "code",
      "source": [
        "def get_fc_model():\n",
        "  model = Sequential()\n",
        "  model.add(InputLayer(input_shape=([train_X.shape[1]])))\n",
        "  model.add(Dense(128, kernel_initializer='normal',activation='relu'))\n",
        "  model.add(Dense(128, kernel_initializer='normal',activation='relu'))\n",
        "  model.add(Dense(128, kernel_initializer='normal',activation='relu'))\n",
        "  model.add(Dense(128, kernel_initializer='normal',activation='relu'))\n",
        "  model.add(Dense(train_y.shape[1], kernel_initializer='normal'))\n",
        "  adam = optimizers.Adam(lr=0.001, beta_1=0.9, beta_2=0.999, epsilon=None, decay=0.0, amsgrad=False)\n",
        "  model.compile(loss='binary_crossentropy', metrics=['accuracy'], optimizer=adam)\n",
        "  return model"
      ],
      "execution_count": 0,
      "outputs": []
    },
    {
      "metadata": {
        "id": "iS8lhRCH8Eei",
        "colab_type": "code",
        "outputId": "53acf64b-64c0-48c9-a8b3-c613aa2ea9fc",
        "colab": {
          "base_uri": "https://localhost:8080/",
          "height": 2584
        }
      },
      "cell_type": "code",
      "source": [
        "fc_model = get_fc_model()\n",
        "fc_model.fit(train_X, train_y, epochs=75, batch_size=32)\n",
        "scores = fc_model.evaluate(test_X, test_y)"
      ],
      "execution_count": 0,
      "outputs": [
        {
          "output_type": "stream",
          "text": [
            "Epoch 1/75\n",
            "38311/38311 [==============================] - 4s 108us/step - loss: 0.6887 - acc: 0.5978\n",
            "Epoch 2/75\n",
            "38311/38311 [==============================] - 3s 90us/step - loss: 0.6585 - acc: 0.6170\n",
            "Epoch 3/75\n",
            "38311/38311 [==============================] - 3s 91us/step - loss: 0.6585 - acc: 0.6161\n",
            "Epoch 4/75\n",
            "38311/38311 [==============================] - 4s 91us/step - loss: 0.6544 - acc: 0.6213\n",
            "Epoch 5/75\n",
            "38311/38311 [==============================] - 4s 92us/step - loss: 0.6520 - acc: 0.6257\n",
            "Epoch 6/75\n",
            "38311/38311 [==============================] - 3s 90us/step - loss: 0.6508 - acc: 0.6244\n",
            "Epoch 7/75\n",
            "38311/38311 [==============================] - 3s 91us/step - loss: 0.6491 - acc: 0.6277\n",
            "Epoch 8/75\n",
            "38311/38311 [==============================] - 3s 90us/step - loss: 0.6486 - acc: 0.6303\n",
            "Epoch 9/75\n",
            "38311/38311 [==============================] - 3s 91us/step - loss: 0.6483 - acc: 0.6310\n",
            "Epoch 10/75\n",
            "38311/38311 [==============================] - 3s 90us/step - loss: 0.6470 - acc: 0.6304\n",
            "Epoch 11/75\n",
            "38311/38311 [==============================] - 4s 91us/step - loss: 0.6436 - acc: 0.6345\n",
            "Epoch 12/75\n",
            "38311/38311 [==============================] - 4s 92us/step - loss: 0.6431 - acc: 0.6347\n",
            "Epoch 13/75\n",
            "38311/38311 [==============================] - 4s 93us/step - loss: 0.6437 - acc: 0.6325\n",
            "Epoch 14/75\n",
            "38311/38311 [==============================] - 4s 92us/step - loss: 0.6408 - acc: 0.6364\n",
            "Epoch 15/75\n",
            "38311/38311 [==============================] - 4s 92us/step - loss: 0.6413 - acc: 0.6360\n",
            "Epoch 16/75\n",
            "38311/38311 [==============================] - 4s 93us/step - loss: 0.6382 - acc: 0.6387\n",
            "Epoch 17/75\n",
            "38311/38311 [==============================] - 4s 92us/step - loss: 0.6401 - acc: 0.6375\n",
            "Epoch 18/75\n",
            "38311/38311 [==============================] - 4s 92us/step - loss: 0.6394 - acc: 0.6377\n",
            "Epoch 19/75\n",
            "38311/38311 [==============================] - 4s 92us/step - loss: 0.6363 - acc: 0.6426\n",
            "Epoch 20/75\n",
            "38311/38311 [==============================] - 3s 91us/step - loss: 0.6364 - acc: 0.6442\n",
            "Epoch 21/75\n",
            "38311/38311 [==============================] - 4s 92us/step - loss: 0.6370 - acc: 0.6447\n",
            "Epoch 22/75\n",
            "38311/38311 [==============================] - 4s 92us/step - loss: 0.6340 - acc: 0.6427\n",
            "Epoch 23/75\n",
            "38311/38311 [==============================] - 4s 92us/step - loss: 0.6317 - acc: 0.6438\n",
            "Epoch 24/75\n",
            "38311/38311 [==============================] - 4s 92us/step - loss: 0.6303 - acc: 0.6473\n",
            "Epoch 25/75\n",
            "38311/38311 [==============================] - 3s 90us/step - loss: 0.6298 - acc: 0.6463\n",
            "Epoch 26/75\n",
            "38311/38311 [==============================] - 4s 92us/step - loss: 0.6279 - acc: 0.6494\n",
            "Epoch 27/75\n",
            "38311/38311 [==============================] - 4s 92us/step - loss: 0.6250 - acc: 0.6518\n",
            "Epoch 28/75\n",
            "38311/38311 [==============================] - 3s 91us/step - loss: 0.6240 - acc: 0.6524\n",
            "Epoch 29/75\n",
            "38311/38311 [==============================] - 3s 91us/step - loss: 0.6260 - acc: 0.6504\n",
            "Epoch 30/75\n",
            "38311/38311 [==============================] - 4s 92us/step - loss: 0.6214 - acc: 0.6559\n",
            "Epoch 31/75\n",
            "38311/38311 [==============================] - 3s 91us/step - loss: 0.6224 - acc: 0.6567\n",
            "Epoch 32/75\n",
            "38311/38311 [==============================] - 4s 92us/step - loss: 0.6217 - acc: 0.6567\n",
            "Epoch 33/75\n",
            "38311/38311 [==============================] - 4s 92us/step - loss: 0.6238 - acc: 0.6534\n",
            "Epoch 34/75\n",
            "38311/38311 [==============================] - 4s 92us/step - loss: 0.6205 - acc: 0.6589\n",
            "Epoch 35/75\n",
            "38311/38311 [==============================] - 3s 91us/step - loss: 0.6156 - acc: 0.6608\n",
            "Epoch 36/75\n",
            "38311/38311 [==============================] - 3s 91us/step - loss: 0.6159 - acc: 0.6606\n",
            "Epoch 37/75\n",
            "38311/38311 [==============================] - 3s 90us/step - loss: 0.6187 - acc: 0.6582\n",
            "Epoch 38/75\n",
            "38311/38311 [==============================] - 3s 90us/step - loss: 0.6267 - acc: 0.6523\n",
            "Epoch 39/75\n",
            "38311/38311 [==============================] - 3s 90us/step - loss: 0.6158 - acc: 0.6598\n",
            "Epoch 40/75\n",
            "38311/38311 [==============================] - 4s 92us/step - loss: 0.6127 - acc: 0.6604\n",
            "Epoch 41/75\n",
            "38311/38311 [==============================] - 4s 92us/step - loss: 0.6063 - acc: 0.6641\n",
            "Epoch 42/75\n",
            "38311/38311 [==============================] - 4s 93us/step - loss: 0.6075 - acc: 0.6637\n",
            "Epoch 43/75\n",
            "38311/38311 [==============================] - 4s 92us/step - loss: 0.6043 - acc: 0.6668\n",
            "Epoch 44/75\n",
            "38311/38311 [==============================] - 4s 92us/step - loss: 0.6102 - acc: 0.6651\n",
            "Epoch 45/75\n",
            "38311/38311 [==============================] - 4s 92us/step - loss: 0.6234 - acc: 0.6506\n",
            "Epoch 46/75\n",
            "38311/38311 [==============================] - 4s 94us/step - loss: 0.6126 - acc: 0.6596\n",
            "Epoch 47/75\n",
            "38311/38311 [==============================] - 4s 92us/step - loss: 0.6195 - acc: 0.6586\n",
            "Epoch 48/75\n",
            "38311/38311 [==============================] - 3s 91us/step - loss: 0.6236 - acc: 0.6459\n",
            "Epoch 49/75\n",
            "38311/38311 [==============================] - 3s 91us/step - loss: 0.6227 - acc: 0.6527\n",
            "Epoch 50/75\n",
            "38311/38311 [==============================] - 4s 94us/step - loss: 0.6072 - acc: 0.6624\n",
            "Epoch 51/75\n",
            "38311/38311 [==============================] - 4s 99us/step - loss: 0.6023 - acc: 0.6636\n",
            "Epoch 52/75\n",
            "38311/38311 [==============================] - 4s 104us/step - loss: 0.6061 - acc: 0.6602\n",
            "Epoch 53/75\n",
            "38311/38311 [==============================] - 4s 102us/step - loss: 0.6065 - acc: 0.6626\n",
            "Epoch 54/75\n",
            "38311/38311 [==============================] - 4s 92us/step - loss: 0.6034 - acc: 0.6573\n",
            "Epoch 55/75\n",
            "38311/38311 [==============================] - 4s 92us/step - loss: 0.6017 - acc: 0.6606\n",
            "Epoch 56/75\n",
            "38311/38311 [==============================] - 4s 91us/step - loss: 0.6002 - acc: 0.6627\n",
            "Epoch 57/75\n",
            "38311/38311 [==============================] - 3s 91us/step - loss: 0.6101 - acc: 0.6572\n",
            "Epoch 58/75\n",
            "38311/38311 [==============================] - 4s 92us/step - loss: 0.6068 - acc: 0.6632\n",
            "Epoch 59/75\n",
            "38311/38311 [==============================] - 3s 90us/step - loss: 0.6042 - acc: 0.6644\n",
            "Epoch 60/75\n",
            "38311/38311 [==============================] - 4s 93us/step - loss: 0.6040 - acc: 0.6626\n",
            "Epoch 61/75\n",
            "38311/38311 [==============================] - 3s 91us/step - loss: 0.6017 - acc: 0.6611\n",
            "Epoch 62/75\n",
            "38311/38311 [==============================] - 4s 92us/step - loss: 0.6097 - acc: 0.6605\n",
            "Epoch 63/75\n",
            "38311/38311 [==============================] - 4s 91us/step - loss: 0.5945 - acc: 0.6671\n",
            "Epoch 64/75\n",
            "38311/38311 [==============================] - 4s 91us/step - loss: 0.5898 - acc: 0.6651\n",
            "Epoch 65/75\n",
            "38311/38311 [==============================] - 3s 91us/step - loss: 0.5962 - acc: 0.6639\n",
            "Epoch 66/75\n",
            "38311/38311 [==============================] - 3s 91us/step - loss: 0.6043 - acc: 0.6636\n",
            "Epoch 67/75\n",
            "38311/38311 [==============================] - 3s 91us/step - loss: 0.5897 - acc: 0.6683\n",
            "Epoch 68/75\n",
            "38311/38311 [==============================] - 4s 92us/step - loss: 0.6036 - acc: 0.6623\n",
            "Epoch 69/75\n",
            "38311/38311 [==============================] - 4s 93us/step - loss: 0.6000 - acc: 0.6644\n",
            "Epoch 70/75\n",
            "38311/38311 [==============================] - 4s 94us/step - loss: 0.6021 - acc: 0.6623\n",
            "Epoch 71/75\n",
            "38311/38311 [==============================] - 4s 93us/step - loss: 0.5917 - acc: 0.6696\n",
            "Epoch 72/75\n",
            "38311/38311 [==============================] - 4s 92us/step - loss: 0.5794 - acc: 0.6703\n",
            "Epoch 73/75\n",
            "38311/38311 [==============================] - 4s 91us/step - loss: 0.5800 - acc: 0.6663\n",
            "Epoch 74/75\n",
            "38311/38311 [==============================] - 4s 92us/step - loss: 0.5847 - acc: 0.6674\n",
            "Epoch 75/75\n",
            "38311/38311 [==============================] - 4s 92us/step - loss: 0.5961 - acc: 0.6616\n",
            "16419/16419 [==============================] - 1s 49us/step\n"
          ],
          "name": "stdout"
        }
      ]
    }
  ]
}